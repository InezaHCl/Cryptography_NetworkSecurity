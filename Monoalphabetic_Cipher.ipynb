{
 "cells": [
  {
   "cell_type": "markdown",
   "id": "c92dbb6f",
   "metadata": {},
   "source": [
    "# Name: HERVE C. INEZA\n",
    "## USN: 21BTRCO044\n",
    "## Branch: CSE-IOT"
   ]
  },
  {
   "cell_type": "markdown",
   "id": "0836a14a",
   "metadata": {},
   "source": [
    "# Python code for Mono-alphabetic  cipher"
   ]
  },
  {
   "cell_type": "code",
   "execution_count": 34,
   "id": "ada1d7e1",
   "metadata": {},
   "outputs": [],
   "source": [
    "# Function to count the letter presernt in ciphertext as key and value as frency of occurence in ciphertext\n",
    "def countChar(text):\n",
    "    stored_letters = {}\n",
    "\n",
    "    for char in text:\n",
    "        if char.isalpha():\n",
    "            if char not in stored_letters:\n",
    "                stored_letters[char] = 1\n",
    "            else:\n",
    "                stored_letters[char] += 1\n",
    "    print(stored_letters)\n",
    "\n",
    "# Define a library of key value pair after frequency analysis on ciphertext\n",
    "mapping = {\n",
    "    'A': 'S',\n",
    "    'B': 'E',\n",
    "    'C': 'C',\n",
    "    'D': 'R',\n",
    "    'E': 'J',\n",
    "    'F': 'T',\n",
    "    'G': 'L',\n",
    "    'H': 'O',\n",
    "    'I': 'X',\n",
    "    'J': 'P',\n",
    "    'K': 'Z',\n",
    "    'L': 'U',\n",
    "    'M': 'M',\n",
    "    'N': 'N',\n",
    "    'O': 'B',\n",
    "    'P': 'Q',\n",
    "    'Q': 'V',\n",
    "    'R': 'D',\n",
    "    'S': 'Y',\n",
    "    'T': 'W',\n",
    "    'U': 'G',\n",
    "    'V': 'H',\n",
    "    'W': 'F',\n",
    "    'X': 'I',\n",
    "    'Y': 'A',\n",
    "    'Z': 'K'\n",
    "}"
   ]
  },
  {
   "cell_type": "code",
   "execution_count": 35,
   "id": "9e369179",
   "metadata": {},
   "outputs": [],
   "source": [
    "# FUNCTION decrypt() decrypte ciphertext\n",
    "def decrypt(cipherText, mapping):\n",
    "    countChar(cipherText)\n",
    "    plaintext = ''\n",
    "    for letter in cipherText.upper():\n",
    "        if letter in mapping.values():\n",
    "            for key, value in mapping.items():\n",
    "                if value == letter:\n",
    "                    plaintext += key\n",
    "        else:\n",
    "            plaintext += letter\n",
    "    return plaintext\n",
    "\n",
    "#Function encrypt() encrypte plaintext\n",
    "def encrypt(plainText, mapping):\n",
    "    ciphertext = ''\n",
    "    for letter in plainText.upper():\n",
    "        if letter in mapping:\n",
    "            ciphertext += mapping[letter]\n",
    "        else:\n",
    "            ciphertext += letter\n",
    "    return ciphertext"
   ]
  },
  {
   "cell_type": "code",
   "execution_count": 37,
   "id": "a83a5d52",
   "metadata": {},
   "outputs": [
    {
     "name": "stdout",
     "output_type": "stream",
     "text": [
      "Ciphertext:  OJUUB FBDUR\n",
      "{'O': 1, 'J': 1, 'U': 3, 'B': 2, 'F': 1, 'D': 1, 'R': 1}\n",
      "Plaintext:  HELLO WORLD\n"
     ]
    }
   ],
   "source": [
    "# Plaintext to Ciphertext\n",
    "cipher_text = encrypt('hello world', mapping)\n",
    "print('Ciphertext: ',cipher_text)\n",
    "\n",
    "# Ciphertext to Plaintext\n",
    "plain_text = decrypt(cipher_text, mapping)\n",
    "print('Plaintext: ',plain_text)"
   ]
  }
 ],
 "metadata": {
  "kernelspec": {
   "display_name": "Python 3 (ipykernel)",
   "language": "python",
   "name": "python3"
  },
  "language_info": {
   "codemirror_mode": {
    "name": "ipython",
    "version": 3
   },
   "file_extension": ".py",
   "mimetype": "text/x-python",
   "name": "python",
   "nbconvert_exporter": "python",
   "pygments_lexer": "ipython3",
   "version": "3.11.4"
  }
 },
 "nbformat": 4,
 "nbformat_minor": 5
}
