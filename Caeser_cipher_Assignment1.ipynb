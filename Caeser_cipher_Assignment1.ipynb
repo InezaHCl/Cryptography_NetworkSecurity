{
 "cells": [
  {
   "cell_type": "markdown",
   "id": "9b1a3b6c",
   "metadata": {},
   "source": [
    "# Name: HERVE CLAUDEL INEZA\n",
    "# USN: 21BTRCO044\n",
    "# Branch: IOT"
   ]
  },
  {
   "cell_type": "markdown",
   "id": "c28c7935",
   "metadata": {},
   "source": [
    "# Python code for Caesar Cipher"
   ]
  },
  {
   "cell_type": "code",
   "execution_count": 1,
   "id": "a6749fb2",
   "metadata": {},
   "outputs": [],
   "source": [
    "# 1. Define method to perform encryption c = (p + k ) mod 26\n",
    "def encryption(plainText, key):\n",
    "    plainText = plainText.lower()\n",
    "    cipherText = ''\n",
    "    for char in plainText:\n",
    "        if char.isalpha():\n",
    "            for i in range(len(alphabets)):\n",
    "                if(char == alphabets[i]):\n",
    "                    subChar = (i + key) % 26\n",
    "                    cipherText += alphabets[subChar]\n",
    "                    \n",
    "    return cipherText\n",
    " \n",
    "# 2. Define method for decryption using formula -> c = (p - k) mod 26\n",
    "def decryption(cipherText, key):\n",
    "    cipherText = cipherText.lower()\n",
    "    plainText = ''\n",
    "    for char in cipherText:\n",
    "        if(char.isalpha()):\n",
    "            for i in range(len(alphabets)):\n",
    "                if(char == alphabets[i]):\n",
    "                    subChar = (i - key) % 26\n",
    "                    if (subChar < 0):\n",
    "                        subChar *= -1\n",
    "                    plainText += alphabets[subChar]\n",
    "    return plainText\n",
    "\n",
    "# 3. Define a list of alphabets\n",
    "alphabets = ['a', 'b', 'c', 'd', 'e', 'f', 'g', 'h', 'i', 'j', 'k', 'l', 'm', 'n', 'o', 'p', 'q', 'r', 's', 't', 'u', 'v', 'w', 'x', 'y', 'z']\n",
    "\n",
    "# 4. In caesar cipher , The key = 3\n",
    "key = 3"
   ]
  },
  {
   "cell_type": "code",
   "execution_count": 3,
   "id": "5e78bfb7",
   "metadata": {},
   "outputs": [
    {
     "name": "stdout",
     "output_type": "stream",
     "text": [
      "CipherText:  KHOORZRUOG\n"
     ]
    }
   ],
   "source": [
    "# Calling encryption() \n",
    "plain_text = 'Hello World'\n",
    "\n",
    "print('CipherText: ', (encryption(plain_text, key)).upper())"
   ]
  },
  {
   "cell_type": "code",
   "execution_count": 5,
   "id": "057de8f6",
   "metadata": {},
   "outputs": [
    {
     "name": "stdout",
     "output_type": "stream",
     "text": [
      "PlainText:  HELLOWORLD\n"
     ]
    }
   ],
   "source": [
    "# Calling decryption()\n",
    "cipher_text = 'KHOORZRUOG'\n",
    "\n",
    "print('PlainText: ', ( decryption(cipher_text, key)).upper())"
   ]
  }
 ],
 "metadata": {
  "kernelspec": {
   "display_name": "Python 3 (ipykernel)",
   "language": "python",
   "name": "python3"
  },
  "language_info": {
   "codemirror_mode": {
    "name": "ipython",
    "version": 3
   },
   "file_extension": ".py",
   "mimetype": "text/x-python",
   "name": "python",
   "nbconvert_exporter": "python",
   "pygments_lexer": "ipython3",
   "version": "3.11.4"
  }
 },
 "nbformat": 4,
 "nbformat_minor": 5
}
